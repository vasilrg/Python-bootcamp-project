{
 "cells": [
  {
   "cell_type": "code",
   "execution_count": 1,
   "metadata": {},
   "outputs": [],
   "source": [
    "# Import of the module to read the csv file\n",
    "import pandas as pd"
   ]
  },
  {
   "cell_type": "code",
   "execution_count": 3,
   "metadata": {},
   "outputs": [],
   "source": [
    "# Assing of balance.txt file to a data frame\n",
    "df = pd.read_csv(\"balance.txt\", delim_whitespace=True)"
   ]
  },
  {
   "cell_type": "code",
   "execution_count": 27,
   "metadata": {},
   "outputs": [
    {
     "data": {
      "text/html": [
       "<div>\n",
       "<style scoped>\n",
       "    .dataframe tbody tr th:only-of-type {\n",
       "        vertical-align: middle;\n",
       "    }\n",
       "\n",
       "    .dataframe tbody tr th {\n",
       "        vertical-align: top;\n",
       "    }\n",
       "\n",
       "    .dataframe thead th {\n",
       "        text-align: right;\n",
       "    }\n",
       "</style>\n",
       "<table border=\"1\" class=\"dataframe\">\n",
       "  <thead>\n",
       "    <tr style=\"text-align: right;\">\n",
       "      <th></th>\n",
       "      <th>Balance</th>\n",
       "      <th>Income</th>\n",
       "      <th>Limit</th>\n",
       "      <th>Rating</th>\n",
       "      <th>Cards</th>\n",
       "      <th>Age</th>\n",
       "      <th>Education</th>\n",
       "    </tr>\n",
       "  </thead>\n",
       "  <tbody>\n",
       "    <tr>\n",
       "      <th>count</th>\n",
       "      <td>400.000000</td>\n",
       "      <td>400.000000</td>\n",
       "      <td>400.000000</td>\n",
       "      <td>400.000000</td>\n",
       "      <td>400.000000</td>\n",
       "      <td>400.000000</td>\n",
       "      <td>400.000000</td>\n",
       "    </tr>\n",
       "    <tr>\n",
       "      <th>mean</th>\n",
       "      <td>13.429175</td>\n",
       "      <td>45.218885</td>\n",
       "      <td>4735.600000</td>\n",
       "      <td>354.940000</td>\n",
       "      <td>2.957500</td>\n",
       "      <td>55.667500</td>\n",
       "      <td>13.450000</td>\n",
       "    </tr>\n",
       "    <tr>\n",
       "      <th>std</th>\n",
       "      <td>5.669256</td>\n",
       "      <td>35.244273</td>\n",
       "      <td>2308.198848</td>\n",
       "      <td>154.724143</td>\n",
       "      <td>1.371275</td>\n",
       "      <td>17.249807</td>\n",
       "      <td>3.125207</td>\n",
       "    </tr>\n",
       "    <tr>\n",
       "      <th>min</th>\n",
       "      <td>3.749403</td>\n",
       "      <td>10.354000</td>\n",
       "      <td>855.000000</td>\n",
       "      <td>93.000000</td>\n",
       "      <td>1.000000</td>\n",
       "      <td>23.000000</td>\n",
       "      <td>5.000000</td>\n",
       "    </tr>\n",
       "    <tr>\n",
       "      <th>25%</th>\n",
       "      <td>9.891439</td>\n",
       "      <td>21.007250</td>\n",
       "      <td>3088.000000</td>\n",
       "      <td>247.250000</td>\n",
       "      <td>2.000000</td>\n",
       "      <td>41.750000</td>\n",
       "      <td>11.000000</td>\n",
       "    </tr>\n",
       "    <tr>\n",
       "      <th>50%</th>\n",
       "      <td>11.779615</td>\n",
       "      <td>33.115500</td>\n",
       "      <td>4622.500000</td>\n",
       "      <td>344.000000</td>\n",
       "      <td>3.000000</td>\n",
       "      <td>56.000000</td>\n",
       "      <td>14.000000</td>\n",
       "    </tr>\n",
       "    <tr>\n",
       "      <th>75%</th>\n",
       "      <td>15.236961</td>\n",
       "      <td>57.470750</td>\n",
       "      <td>5872.750000</td>\n",
       "      <td>437.250000</td>\n",
       "      <td>4.000000</td>\n",
       "      <td>70.000000</td>\n",
       "      <td>16.000000</td>\n",
       "    </tr>\n",
       "    <tr>\n",
       "      <th>max</th>\n",
       "      <td>38.785123</td>\n",
       "      <td>186.634000</td>\n",
       "      <td>13913.000000</td>\n",
       "      <td>982.000000</td>\n",
       "      <td>9.000000</td>\n",
       "      <td>98.000000</td>\n",
       "      <td>20.000000</td>\n",
       "    </tr>\n",
       "  </tbody>\n",
       "</table>\n",
       "</div>"
      ],
      "text/plain": [
       "          Balance      Income         Limit      Rating       Cards   \n",
       "count  400.000000  400.000000    400.000000  400.000000  400.000000  \\\n",
       "mean    13.429175   45.218885   4735.600000  354.940000    2.957500   \n",
       "std      5.669256   35.244273   2308.198848  154.724143    1.371275   \n",
       "min      3.749403   10.354000    855.000000   93.000000    1.000000   \n",
       "25%      9.891439   21.007250   3088.000000  247.250000    2.000000   \n",
       "50%     11.779615   33.115500   4622.500000  344.000000    3.000000   \n",
       "75%     15.236961   57.470750   5872.750000  437.250000    4.000000   \n",
       "max     38.785123  186.634000  13913.000000  982.000000    9.000000   \n",
       "\n",
       "              Age   Education  \n",
       "count  400.000000  400.000000  \n",
       "mean    55.667500   13.450000  \n",
       "std     17.249807    3.125207  \n",
       "min     23.000000    5.000000  \n",
       "25%     41.750000   11.000000  \n",
       "50%     56.000000   14.000000  \n",
       "75%     70.000000   16.000000  \n",
       "max     98.000000   20.000000  "
      ]
     },
     "execution_count": 27,
     "metadata": {},
     "output_type": "execute_result"
    }
   ],
   "source": [
    "# Display of statistical information that will be used in this task\n",
    "df.describe()"
   ]
  },
  {
   "cell_type": "code",
   "execution_count": 18,
   "metadata": {},
   "outputs": [
    {
     "name": "stdout",
     "output_type": "stream",
     "text": [
      "Average income, based on Ethnicity\n",
      "African American    47.682101\n",
      "Asian               44.187833\n",
      "Caucasian           44.521945\n",
      "Name: Income, dtype: float64\n"
     ]
    }
   ],
   "source": [
    "# Use of the mean() on income with the groyup by function \n",
    "avg_income = df.groupby('Ethnicity')['Income'].mean()\n",
    "\n",
    "print(\"Average income, based on\", avg_income)"
   ]
  },
  {
   "cell_type": "code",
   "execution_count": 20,
   "metadata": {},
   "outputs": [
    {
     "name": "stdout",
     "output_type": "stream",
     "text": [
      "Average balance based on marital status: Married\n",
      "No     13.493509\n",
      "Yes    13.388473\n",
      "Name: Balance, dtype: float64\n"
     ]
    }
   ],
   "source": [
    "avg_balance = df.groupby('Married')['Balance'].mean()\n",
    "\n",
    "print(\"Average balance based on marital status:\", avg_balance)"
   ]
  },
  {
   "cell_type": "code",
   "execution_count": 21,
   "metadata": {},
   "outputs": [
    {
     "name": "stdout",
     "output_type": "stream",
     "text": [
      "186.634\n"
     ]
    }
   ],
   "source": [
    "# Appointing the max() method to a variable \n",
    "max_income = df['Income'].max()\n",
    "\n",
    "print(\"The highest income in the data set is\", max_income)"
   ]
  },
  {
   "cell_type": "code",
   "execution_count": 23,
   "metadata": {},
   "outputs": [
    {
     "name": "stdout",
     "output_type": "stream",
     "text": [
      "The lowes income in the data set is 10.354\n"
     ]
    }
   ],
   "source": [
    "min_income = df['Income'].min()\n",
    "\n",
    "print(\"The lowes income in the data set is\", min_income)"
   ]
  },
  {
   "cell_type": "code",
   "execution_count": 24,
   "metadata": {},
   "outputs": [
    {
     "name": "stdout",
     "output_type": "stream",
     "text": [
      "Total number of card is 1183\n"
     ]
    }
   ],
   "source": [
    "# Use of sum() on cards column \n",
    "cards = df['Cards'].sum()\n",
    "\n",
    "print(\"Total number of card is\", cards)"
   ]
  },
  {
   "cell_type": "code",
   "execution_count": 25,
   "metadata": {},
   "outputs": [
    {
     "name": "stdout",
     "output_type": "stream",
     "text": [
      "Total number of females in the data set is 207\n"
     ]
    }
   ],
   "source": [
    "# Selecting specific variable from the column Gender \n",
    "women = df[df['Gender'] == 'Female']['Gender'].count()\n",
    "\n",
    "print(\"Total number of females in the data set is\", women)"
   ]
  },
  {
   "cell_type": "code",
   "execution_count": 26,
   "metadata": {},
   "outputs": [
    {
     "name": "stdout",
     "output_type": "stream",
     "text": [
      "Total number of men in the data set is 193\n"
     ]
    }
   ],
   "source": [
    "men = df[df['Gender'] == 'Male']['Gender'].count()\n",
    "\n",
    "print(\"Total number of men in the data set is\", men)"
   ]
  },
  {
   "cell_type": "code",
   "execution_count": null,
   "metadata": {},
   "outputs": [],
   "source": []
  }
 ],
 "metadata": {
  "colab": {
   "authorship_tag": "ABX9TyP5J3xG1JXUCQAkP9OLQqdU",
   "provenance": []
  },
  "kernelspec": {
   "display_name": "Python 3 (ipykernel)",
   "language": "python",
   "name": "python3"
  },
  "language_info": {
   "codemirror_mode": {
    "name": "ipython",
    "version": 3
   },
   "file_extension": ".py",
   "mimetype": "text/x-python",
   "name": "python",
   "nbconvert_exporter": "python",
   "pygments_lexer": "ipython3",
   "version": "3.11.2"
  }
 },
 "nbformat": 4,
 "nbformat_minor": 1
}
